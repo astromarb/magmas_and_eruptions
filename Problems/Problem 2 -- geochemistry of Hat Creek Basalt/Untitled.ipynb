{
 "cells": [
  {
   "cell_type": "code",
   "execution_count": null,
   "id": "f216a2b9-d7f6-431b-b3af-c011a9876bdb",
   "metadata": {},
   "outputs": [],
   "source": [
    "## Linear regression fitting for chemical oxides data\n",
    "\n",
    "\n",
    "## Linear regression model"
   ]
  },
  {
   "cell_type": "code",
   "execution_count": null,
   "id": "752993fc-a3c4-4602-baaf-bab5dc711a26",
   "metadata": {},
   "outputs": [],
   "source": [
    "\n"
   ]
  }
 ],
 "metadata": {
  "kernelspec": {
   "display_name": "Python 3 (ipykernel)",
   "language": "python",
   "name": "python3"
  },
  "language_info": {
   "codemirror_mode": {
    "name": "ipython",
    "version": 3
   },
   "file_extension": ".py",
   "mimetype": "text/x-python",
   "name": "python",
   "nbconvert_exporter": "python",
   "pygments_lexer": "ipython3",
   "version": "3.12.4"
  }
 },
 "nbformat": 4,
 "nbformat_minor": 5
}
