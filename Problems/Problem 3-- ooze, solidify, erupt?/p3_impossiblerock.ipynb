{
 "cells": [
  {
   "cell_type": "code",
   "id": "initial_id",
   "metadata": {
    "collapsed": true,
    "ExecuteTime": {
     "end_time": "2025-02-13T16:15:22.761940Z",
     "start_time": "2025-02-13T16:15:22.760340Z"
    }
   },
   "source": [
    "# Imports\n",
    "from VolatileCalc import VolatileCalc\n",
    "import pandas as pd"
   ],
   "outputs": [],
   "execution_count": 18
  },
  {
   "metadata": {
    "ExecuteTime": {
     "end_time": "2025-02-13T16:15:24.461105Z",
     "start_time": "2025-02-13T16:15:24.398065Z"
    }
   },
   "cell_type": "code",
   "source": [
    "isobar, errors_isobar =  VolatileCalc('ib', 'rhyolite', [0.1, 1000, 5])\n",
    "\n",
    "satv_press, errors_svp = VolatileCalc('svp','rhyolite', ['h2o',10, 900])\n",
    "\n"
   ],
   "id": "e6bdad32b5053eaf",
   "outputs": [
    {
     "ename": "TypeError",
     "evalue": "'float' object cannot be interpreted as an integer",
     "output_type": "error",
     "traceback": [
      "\u001B[0;31m---------------------------------------------------------------------------\u001B[0m",
      "\u001B[0;31mTypeError\u001B[0m                                 Traceback (most recent call last)",
      "Cell \u001B[0;32mIn[19], line 3\u001B[0m\n\u001B[1;32m      1\u001B[0m isobar, errors_isobar \u001B[38;5;241m=\u001B[39m  VolatileCalc(\u001B[38;5;124m'\u001B[39m\u001B[38;5;124mib\u001B[39m\u001B[38;5;124m'\u001B[39m, \u001B[38;5;124m'\u001B[39m\u001B[38;5;124mrhyolite\u001B[39m\u001B[38;5;124m'\u001B[39m, [\u001B[38;5;241m0.1\u001B[39m, \u001B[38;5;241m1000\u001B[39m, \u001B[38;5;241m5\u001B[39m])\n\u001B[0;32m----> 3\u001B[0m satv_press, errors_svp \u001B[38;5;241m=\u001B[39m VolatileCalc(\u001B[38;5;124m'\u001B[39m\u001B[38;5;124msvp\u001B[39m\u001B[38;5;124m'\u001B[39m,\u001B[38;5;124m'\u001B[39m\u001B[38;5;124mrhyolite\u001B[39m\u001B[38;5;124m'\u001B[39m, [\u001B[38;5;124m'\u001B[39m\u001B[38;5;124mh2o\u001B[39m\u001B[38;5;124m'\u001B[39m,\u001B[38;5;241m10\u001B[39m, \u001B[38;5;241m900\u001B[39m])\n",
      "File \u001B[0;32m~/PycharmProjects/magmas_and_eruptions/Problems/Problem 3-- ooze, solidify, erupt?/VolatileCalc.py:857\u001B[0m, in \u001B[0;36mVolatileCalc\u001B[0;34m(func, var1, var2)\u001B[0m\n\u001B[1;32m    855\u001B[0m P_start \u001B[38;5;241m=\u001B[39m P_interval\n\u001B[1;32m    856\u001B[0m P_stop \u001B[38;5;241m=\u001B[39m P_interval \u001B[38;5;241m*\u001B[39m steps\n\u001B[0;32m--> 857\u001B[0m \u001B[38;5;28;01mfor\u001B[39;00m P \u001B[38;5;129;01min\u001B[39;00m \u001B[38;5;28mrange\u001B[39m(P_start,P_stop\u001B[38;5;241m+\u001B[39mP_interval,P_interval):\n\u001B[1;32m    858\u001B[0m     routine[\u001B[38;5;241m1\u001B[39m] \u001B[38;5;241m=\u001B[39m \u001B[38;5;28mfloat\u001B[39m(P)\n\u001B[1;32m    859\u001B[0m     \u001B[38;5;28;01mif\u001B[39;00m GH \u001B[38;5;241m==\u001B[39m \u001B[38;5;241m1\u001B[39m:\n",
      "\u001B[0;31mTypeError\u001B[0m: 'float' object cannot be interpreted as an integer"
     ]
    }
   ],
   "execution_count": 19
  },
  {
   "metadata": {
    "ExecuteTime": {
     "end_time": "2025-02-13T09:46:35.302790Z",
     "start_time": "2025-02-13T09:46:35.299035Z"
    }
   },
   "cell_type": "code",
   "source": [
    "isobar, errors_isobar\n",
    "\n",
    "isobar_df = pd.DataFrame(isobar)\n",
    "\n"
   ],
   "id": "7f7bbab0eba6141a",
   "outputs": [],
   "execution_count": 32
  },
  {
   "metadata": {
    "ExecuteTime": {
     "end_time": "2025-02-13T09:51:57.025983Z",
     "start_time": "2025-02-13T09:51:56.967569Z"
    }
   },
   "cell_type": "code",
   "source": [
    "import matplotlib.pyplot as plt\n",
    "\n",
    "x = isobar_df[3]\n",
    "y = isobar_df[1]\n",
    "\n",
    "plt.scatter(x, y)\n",
    "plt.xlabel('Molecular H2O in melt (wt. %)')\n",
    "plt.ylabel('H2O (wt. %)')\n",
    "plt.title('Scatter Plot of Column 1 vs Column 3')\n",
    "plt.show()"
   ],
   "id": "624762ff6f87aeeb",
   "outputs": [
    {
     "data": {
      "text/plain": [
       "<Figure size 640x480 with 1 Axes>"
      ],
      "image/png": "[encoded data removed]"
     },
     "metadata": {},
     "output_type": "display_data"
    }
   ],
   "execution_count": 36
  },
  {
   "metadata": {
    "ExecuteTime": {
     "end_time": "2025-02-13T16:20:38.392676Z",
     "start_time": "2025-02-13T16:20:38.327986Z"
    }
   },
   "cell_type": "code",
   "source": [
    "from VolatileCalc import VolatileCalc\n",
    "import numpy as np\n",
    "import matplotlib.pyplot as plt\n",
    "\n",
    "# Correct instantiation of VolatileCalc with appropriate parameters\n",
    "# svp = saturation vapor pressure mode\n",
    "# rhyolite = composition type\n",
    "# ['H2O', 50, 900] = volatile component, pressure (MPa), temperature (°C)\n",
    "calc = VolatileCalc('svp', 'rhyolite', ['H2O', 50, 900])\n",
    "\n",
    "# Generate a range of pressures from 200 MPa to 0.1 MPa\n",
    "pressures = np.linspace(200, 0.1, 100)  # Pressure in MPa\n",
    "\n",
    "# Calculate H2O solubility at each pressure\n",
    "water_solubility = [calc.get_h2o_solubility(p) for p in pressures]\n",
    "\n",
    "# Plot the solubility curve\n",
    "plt.plot(pressures, water_solubility)\n",
    "plt.xlabel(\"Pressure (MPa)\")\n",
    "plt.ylabel(\"H2O Solubility (wt%)\")\n",
    "plt.title(\"H2O Solubility vs. Pressure\")\n",
    "plt.gca().invert_xaxis()  # Invert x-axis for decreasing pressure\n",
    "plt.show()"
   ],
   "id": "ffe7659a3c38a272",
   "outputs": [
    {
     "ename": "TypeError",
     "evalue": "'float' object cannot be interpreted as an integer",
     "output_type": "error",
     "traceback": [
      "\u001B[0;31m---------------------------------------------------------------------------\u001B[0m",
      "\u001B[0;31mTypeError\u001B[0m                                 Traceback (most recent call last)",
      "Cell \u001B[0;32mIn[22], line 9\u001B[0m\n\u001B[1;32m      3\u001B[0m \u001B[38;5;28;01mimport\u001B[39;00m \u001B[38;5;21;01mmatplotlib\u001B[39;00m\u001B[38;5;21;01m.\u001B[39;00m\u001B[38;5;21;01mpyplot\u001B[39;00m \u001B[38;5;28;01mas\u001B[39;00m \u001B[38;5;21;01mplt\u001B[39;00m\n\u001B[1;32m      5\u001B[0m \u001B[38;5;66;03m# Correct instantiation of VolatileCalc with appropriate parameters\u001B[39;00m\n\u001B[1;32m      6\u001B[0m \u001B[38;5;66;03m# svp = saturation vapor pressure mode\u001B[39;00m\n\u001B[1;32m      7\u001B[0m \u001B[38;5;66;03m# rhyolite = composition type\u001B[39;00m\n\u001B[1;32m      8\u001B[0m \u001B[38;5;66;03m# ['H2O', 50, 900] = volatile component, pressure (MPa), temperature (°C)\u001B[39;00m\n\u001B[0;32m----> 9\u001B[0m calc \u001B[38;5;241m=\u001B[39m VolatileCalc(\u001B[38;5;124m'\u001B[39m\u001B[38;5;124msvp\u001B[39m\u001B[38;5;124m'\u001B[39m, \u001B[38;5;124m'\u001B[39m\u001B[38;5;124mrhyolite\u001B[39m\u001B[38;5;124m'\u001B[39m, [\u001B[38;5;124m'\u001B[39m\u001B[38;5;124mH2O\u001B[39m\u001B[38;5;124m'\u001B[39m, \u001B[38;5;241m50\u001B[39m, \u001B[38;5;241m900\u001B[39m])\n\u001B[1;32m     11\u001B[0m \u001B[38;5;66;03m# Generate a range of pressures from 200 MPa to 0.1 MPa\u001B[39;00m\n\u001B[1;32m     12\u001B[0m pressures \u001B[38;5;241m=\u001B[39m np\u001B[38;5;241m.\u001B[39mlinspace(\u001B[38;5;241m200\u001B[39m, \u001B[38;5;241m0.1\u001B[39m, \u001B[38;5;241m100\u001B[39m)  \u001B[38;5;66;03m# Pressure in MPa\u001B[39;00m\n",
      "File \u001B[0;32m~/PycharmProjects/magmas_and_eruptions/Problems/Problem 3-- ooze, solidify, erupt?/VolatileCalc.py:857\u001B[0m, in \u001B[0;36mVolatileCalc\u001B[0;34m(func, var1, var2)\u001B[0m\n\u001B[1;32m    855\u001B[0m P_start \u001B[38;5;241m=\u001B[39m P_interval\n\u001B[1;32m    856\u001B[0m P_stop \u001B[38;5;241m=\u001B[39m P_interval \u001B[38;5;241m*\u001B[39m steps\n\u001B[0;32m--> 857\u001B[0m \u001B[38;5;28;01mfor\u001B[39;00m P \u001B[38;5;129;01min\u001B[39;00m \u001B[38;5;28mrange\u001B[39m(P_start,P_stop\u001B[38;5;241m+\u001B[39mP_interval,P_interval):\n\u001B[1;32m    858\u001B[0m     routine[\u001B[38;5;241m1\u001B[39m] \u001B[38;5;241m=\u001B[39m \u001B[38;5;28mfloat\u001B[39m(P)\n\u001B[1;32m    859\u001B[0m     \u001B[38;5;28;01mif\u001B[39;00m GH \u001B[38;5;241m==\u001B[39m \u001B[38;5;241m1\u001B[39m:\n",
      "\u001B[0;31mTypeError\u001B[0m: 'float' object cannot be interpreted as an integer"
     ]
    }
   ],
   "execution_count": 22
  }
 ],
 "metadata": {
  "kernelspec": {
   "display_name": "Python 3",
   "language": "python",
   "name": "python3"
  },
  "language_info": {
   "codemirror_mode": {
    "name": "ipython",
    "version": 2
   },
   "file_extension": ".py",
   "mimetype": "text/x-python",
   "name": "python",
   "nbconvert_exporter": "python",
   "pygments_lexer": "ipython2",
   "version": "2.7.6"
  }
 },
 "nbformat": 4,
 "nbformat_minor": 5
}
